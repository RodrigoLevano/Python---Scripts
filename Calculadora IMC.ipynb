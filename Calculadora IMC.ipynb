{
 "cells": [
  {
   "cell_type": "markdown",
   "metadata": {},
   "source": [
    "IMC Calculadora"
   ]
  },
  {
   "cell_type": "code",
   "execution_count": 9,
   "metadata": {},
   "outputs": [
    {
     "name": "stdout",
     "output_type": "stream",
     "text": [
      "Tu Índice de Masa Corporal es: 43.54768471476267\n",
      "Te encuentras en obesidad mórbida\n"
     ]
    }
   ],
   "source": [
    "name = input(\"Digita tu nombre: \")\n",
    "\n",
    "peso = int(input(\"Digita tu peso en kiligramos: \"))\n",
    "\n",
    "estatura = int(input(\"Digita tu altura en centimetros: \"))\n",
    "\n",
    "IMC = peso / ((estatura / 100) **2)\n",
    "\n",
    "print(f\"Tu Índice de Masa Corporal es: {IMC}\")\n",
    "\n",
    "if IMC > 0:\n",
    "    if IMC < 18.5:\n",
    "        print(f\"{name}, Te encuentras por debajo del peso recomendado.\")\n",
    "    elif IMC >= 18.5 and IMC <= 24.9:\n",
    "        print(f\"{name}, Te encuentras en el peso recomendado.\")\n",
    "    elif IMC >= 25 and IMC <= 29.9:\n",
    "        print(f\"{name}, Te encuentras en sobre peso\")\n",
    "    elif IMC >= 30 and IMC <=34.9:\n",
    "        print(\"{name}, Te encuentras en obesidad\")\n",
    "    elif IMC >= 35 and IMC <= 39.9:\n",
    "        print(f\"{name}, Te encuentras en una obesidad muy alta\")\n",
    "    else:\n",
    "        print(f\"Te encuentras en obesidad mórbida\")"
   ]
  },
  {
   "cell_type": "code",
   "execution_count": null,
   "metadata": {},
   "outputs": [],
   "source": [
    "Bajo peso = menos de 18.5\n",
    "Peso normal = 18.5–24.9\n",
    "Sobrepeso = 25–29.9\n",
    "Obesidad = IMC de 30 ó mayor"
   ]
  }
 ],
 "metadata": {
  "kernelspec": {
   "display_name": "Python 3",
   "language": "python",
   "name": "python3"
  },
  "language_info": {
   "codemirror_mode": {
    "name": "ipython",
    "version": 3
   },
   "file_extension": ".py",
   "mimetype": "text/x-python",
   "name": "python",
   "nbconvert_exporter": "python",
   "pygments_lexer": "ipython3",
   "version": "3.12.2"
  }
 },
 "nbformat": 4,
 "nbformat_minor": 2
}
